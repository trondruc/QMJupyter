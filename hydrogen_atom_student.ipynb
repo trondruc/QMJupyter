{
 "cells": [
  {
   "cell_type": "markdown",
   "metadata": {
    "id": "_jXaPIQpU4gt"
   },
   "source": [
    "# Module II: The hydrogen atom and molecule ion\n",
    "\n",
    "Comments can be sent to: Trond S. Ingebrigtsen, trond@ruc.dk. Visit this [link](http://trondingebrigtsen.com) for more Jupyter modules. "
   ]
  },
  {
   "cell_type": "code",
   "execution_count": null,
   "metadata": {
    "id": "ahgDzdmeU4g0"
   },
   "outputs": [],
   "source": [
    "import math\n",
    "import numpy as np\n",
    "import matplotlib.pyplot as plt\n",
    "\n",
    "from scipy.special import sph_harm, assoc_laguerre\n",
    "from scipy.integrate import dblquad, tplquad \n",
    "\n",
    "from matplotlib import rc, cm, colors\n",
    "rc('animation', html='jshtml')\n",
    "\n",
    "import warnings\n",
    "warnings.filterwarnings(\"ignore\")"
   ]
  },
  {
   "cell_type": "markdown",
   "metadata": {
    "id": "vwzlkr6YU4g1"
   },
   "source": [
    "This notebook studies the hydrogen atom (Chapter 4 in Griffiths) and the hydrogen molecule ion (J-P Grivet, J. Chem. Educ. **79**, 127 (2002)). After this module you will understand:\n",
    "\n",
    "    1. The stationary states of the hydrogen atom and their visualization.\n",
    "    2. Real wave functions for the hydrogen atom.\n",
    "    3. The hydrogen molecule ion and the LCAO approach to molecular wave functions (orbitals).\n",
    "    \n",
    "The module is intended for about **4 hours** of work. You will need to hand it in **next week**. "
   ]
  },
  {
   "cell_type": "markdown",
   "metadata": {
    "id": "C_ibdXvDU4g3"
   },
   "source": [
    "# 1. The hydrogen atom\n",
    "\n",
    "This section will enable you to visualize the stationary states of the hydrogen atom given by\n",
    "\n",
    "\\begin{align}\n",
    "  \\psi_{nlm} = R_{nl}(r)Y_{lm}(\\theta, \\phi),\n",
    "\\end{align}\n",
    "\n",
    "where $n = 1, ..., \\infty$, $l = 0, ..., n-1$, and $-l \\leq m \\leq l$. These solutions are often called atomic orbitals (one-electron wave functions) and are, in general, complex functions. The spherical harmonics $Y_{lm}$ only contain the dependence on $\\phi$ in the $e^{-i \\phi m}$ factor, and the probability density $|\\psi_{nlm}|^{2}$ is therefore a function only of $r$ and $\\theta$. Do you see why? \n",
    "\n",
    "There are different ways to visualizing these wave functions. One way is to plot level or contour sets. These sets \n",
    "are values of constant probability density and will be surfaces in the ($x$,$y$,$z$)-space. Since the probability density is not a function of $\\phi$ we can simply plot the contours in, e.g., the ($x$,$z$)-plane as any other plane containing the $z$-axis will be the same. Mentally one should then rotate these images around the $z$-axis.\n",
    "<br><br>\n",
    "\n",
    "**How to proceed with this module:**\n",
    "\n",
    "You will need to insert your own Python code in front of the sentence: **\"??? Implement me ???\"**. Throughout the code you will also encounter **\"Exercise X\"** which indicates a modification related to Exercise X of the same section. You are **expected** to document your reasoning/thoughts and findings in each section. Enjoy!"
   ]
  },
  {
   "cell_type": "code",
   "execution_count": 1,
   "metadata": {
    "colab": {
     "base_uri": "https://localhost:8080/",
     "height": 320
    },
    "id": "NoPliLzAU4g4",
    "outputId": "b12dde6b-ca95-4c2b-ba3b-ec5562c4c7c2"
   },
   "outputs": [
    {
     "ename": "SyntaxError",
     "evalue": "invalid syntax (<ipython-input-1-2c2504578bdf>, line 8)",
     "output_type": "error",
     "traceback": [
      "\u001b[0;36m  File \u001b[0;32m\"<ipython-input-1-2c2504578bdf>\"\u001b[0;36m, line \u001b[0;32m8\u001b[0m\n\u001b[0;31m    En = # ??? Implement me ???\u001b[0m\n\u001b[0m         ^\u001b[0m\n\u001b[0;31mSyntaxError\u001b[0m\u001b[0;31m:\u001b[0m invalid syntax\n"
     ]
    }
   ],
   "source": [
    "# Quantum numbers n, l, m, and the Bohr radius a in Hartree units.\n",
    "n, l, m, a = 1, 0, 0, 1 # Exercise 1.\n",
    "\n",
    "# Implementation of the hydrogen atom stationary states.\n",
    "# phi goes from 0 to 2pi and theta is from 0 to pi. See textbook.\n",
    "def stationary_state(n,l,m,r,phi,theta,t):\n",
    "    # Energy in Hartree units.\n",
    "    En = # ??? Implement me ???\n",
    "\n",
    "    # Use the 3rd edition for finding the normalization constant.\n",
    "    A = # ??? Implement me ???\n",
    "\n",
    "    # Verify this expression before moving on. See textbook. \n",
    "    R_nl = A * np.exp(-r/(n*a)) * (2*r / (n*a))**l * assoc_laguerre(2*r / (n*a),n-l-1,2*l+1)\n",
    "    Y_lm = sph_harm(m,l,phi,theta)\n",
    "\n",
    "    return R_nl * Y_lm * np.exp(-1j*En*t) \n",
    "\n",
    "#################################################################################\n",
    "\n",
    "# Plotting the orbitals.\n",
    "fig = plt.figure(figsize=(15,4))\n",
    "fig.tight_layout(rect=[0, 0.03, 1, 0.95])\n",
    "\n",
    "ax1 = fig.add_subplot(1, 2, 1)\n",
    "ax2 = fig.add_subplot(1, 2, 2)\n",
    "\n",
    "ax1.set_xlabel(r'$x$', fontsize=16, fontname=\"Arial\") \n",
    "ax1.set_ylabel(r'$z$', fontsize=16, fontname=\"Arial\")\n",
    "ax1.set_title(r'Contour plots for $|\\psi_{nlm}|^{2}$', fontsize=16) \n",
    "ax1.set_aspect(\"equal\")\n",
    "ax1.set_xlim(-4, 4) # Change scale of figure here.\n",
    "ax1.set_ylim(-4, 4)\n",
    "\n",
    "ax2.set_xlabel(r'$r$', fontsize=16, fontname=\"Arial\") \n",
    "ax2.set_ylabel(r'Most likely distance of $\\psi_{nlm}$', fontsize=16, fontname=\"Arial\")\n",
    "ax2.set_xlim(0, 10) \n",
    "ax2.set_ylim(0, 0.6)\n",
    "\n",
    "# Test if the wave function is normalized correctly. \n",
    "I = tplquad(lambda theta, phi, r: r**2 * np.sin(theta) *\n",
    "            np.abs(stationary_state(n,l,m,r,phi,theta,0))**2,\n",
    "            0, 100,\n",
    "            lambda phi: 0,  lambda phi: 2*np.pi,\n",
    "            lambda phi, theta: 0, lambda phi, theta: np.pi)\n",
    "\n",
    "if(math.isclose(I[0],1) != True):\n",
    "  print(\"The normalization constant is not correct! Try again.\")\n",
    "\n",
    "# Plot contour plots of the probability density.\n",
    "r = np.linspace(0, 20)\n",
    "phi = 0\n",
    "# We let theta run negative to cover the full plane.\n",
    "theta = np.linspace(-math.pi+0.0001, math.pi-0.0001, 200)\n",
    "R, Theta = np.meshgrid(r, theta)\n",
    "\n",
    "# Convert to Cartesian coordinates.\n",
    "X = R * np.sin(Theta) * np.cos(phi)\n",
    "Y = R * np.sin(Theta) * np.sin(phi)\n",
    "Z = R * np.cos(Theta)\n",
    "\n",
    "# The probability density. Note Y = 0.\n",
    "P = np.abs(stationary_state(n,l,m,R,phi,Theta,0))**2\n",
    "cset = ax1.contour(X, Z, P, 20)\n",
    "fig.colorbar(cset, ax=ax1)\n",
    "\n",
    "# Exercise 2.\n",
    "# Hint: Replace 0 with an equation from the textbook. r**2 is added later in the code. \n",
    "# NB: lambda defines a function without name in Python (see Python manual).\n",
    "partial_integral = lambda r: dblquad(lambda theta, phi: 0,  \n",
    "                    0, 2*np.pi,\n",
    "                    lambda theta: 0, lambda theta: np.pi) \n",
    "\n",
    "# Loop over all r values.\n",
    "r_values = np.linspace(0,20,500)\n",
    "avg_plot = np.zeros(500)\n",
    "for i in range(0,len(r_values)):\n",
    "  avg_plot[i] = r_values[i]**2 * partial_integral(r_values[i])[0]\n",
    "\n",
    "values = ax2.scatter(r_values,avg_plot,marker='o',s=5,linewidths=0.3,color='red')"
   ]
  },
  {
   "cell_type": "markdown",
   "metadata": {
    "id": "dSyMO6csxlvj"
   },
   "source": [
    "The left figure shows a contour plot for $|\\psi_{nlm}|^{2}$ in the ($x$,$z$)-plane and the right figure shows the most likely distance of a specific stationary state. Before implementation it shows always the value 0.\n",
    "\n",
    "**Exercise 1:** Explain to your partner what a contour plot for the probability density is. Look at the contour plots for $n = 1, 2$, $l = 0, ..., n - 1$ and $-l \\leq m \\leq l$. Describe the plots; what does the shape mean physically for the electron in each orbital? \n",
    "\n",
    "**Exercise 2:** What is the most likely distance for the electron in the previous states? If you find that it is right on top of the proton go directly to jail as Griffiths would say. You will have to insert an expression in the lambda-function using an equation from the textbook.\n",
    "\n",
    "**Exercise 3:** *This is a pen and paper exercise*. According to Problem 2.1(b), the stationary states can always be taken to be real. For $n$ = 2 and $l = 1$ we have two complex and 1 real solutions (do you see why?). Create the new real solutions by a linear combination of the complex solutions $\\psi_{211}$ and $\\psi_{21-1}$. Are your new basis functions, eigenfunctions for $\\hat{L}_{z}$?"
   ]
  },
  {
   "cell_type": "markdown",
   "metadata": {
    "id": "DKwiEogeFQAS"
   },
   "source": [
    "# 2. The hydrogen molecule ion\n",
    "\n",
    "The simplest possible molecule is the $H_{2}^{+}$ ion which occurs naturally, e.g., in space. It has the Hamiltonian (confirm it!)\n",
    "\n",
    "\\begin{align}\n",
    "\\hat{H} = -\\frac{1}{2}\\nabla^{2}_{e} -\\frac{1}{2}\\nabla^{2}_{A} -\\frac{1}{2}\\nabla^{2}_{B} - \\frac{1}{r_{A}} - \\frac{1}{r_{B}} + \\frac{1}{R_{AB}},\n",
    "\\end{align}\n",
    "\n",
    "where $R_{AB}$ is nuclei-nuclei distance. To solve the molecular SE we need to apply first an approximation called the abdiabatic Born-Oppenheimer approximation. We will not go deeply into this approximation in this course, but it corresponds to assuming that the molecular wave function can be written as the product of a function *only* of the electronic coordinates, with fixed nuclei coordinates, and a function *only* of the atomic positions. The electronic wave function is a solution to\n",
    "\n",
    "\\begin{align}\n",
    "\\hat{H}_{e} = -\\frac{1}{2}\\nabla^{2}_{e} - \\frac{1}{r_{A}} - \\frac{1}{r_{B}} + \\frac{1}{R_{AB}}.\n",
    "\\end{align}\n",
    "\n",
    "This electronic SE can be solved analytically for $H_{2}^{+}$ but it is a rather long and mathematical intensive \n",
    "task (Ø. Burrau, 1927 - a Dane!). It turns out that linear combinations of the atomic orbitals (LCAO) are resonable approximations to the obtained solutions and can also be used for more complicated molecules. The first two lowest-energy molecular orbitals are hence described by the $1s$ combinations:\n",
    "\n",
    "\\begin{align}\n",
    "\\psi_{\\sigma_{g}}(\\textbf{r}) & = \\psi^{A}_{1s}(\\textbf{r}) + \\psi^{B}_{1s}(\\textbf{r}),\\\\\n",
    "\\psi_{\\sigma_{u}}(\\textbf{r}) & = \\psi^{A}_{1s}(\\textbf{r}) - \\psi^{B}_{1s}(\\textbf{r}), \n",
    "\\end{align}\n",
    "\n",
    "where the superscript refers to the location of the wave functions and the subscript indicates whether the function is even or odd. We will now visualize these two molecular orbitals."
   ]
  },
  {
   "cell_type": "code",
   "execution_count": 2,
   "metadata": {
    "colab": {
     "base_uri": "https://localhost:8080/",
     "height": 396
    },
    "id": "6UgzLfXlFQAS",
    "outputId": "02d5de5e-d94b-45aa-fecd-8009cb3b1d8a"
   },
   "outputs": [
    {
     "ename": "NameError",
     "evalue": "name 'plt' is not defined",
     "output_type": "error",
     "traceback": [
      "\u001b[0;31m---------------------------------------------------------------------------\u001b[0m",
      "\u001b[0;31mNameError\u001b[0m                                 Traceback (most recent call last)",
      "\u001b[0;32m<ipython-input-2-d930fcef1e20>\u001b[0m in \u001b[0;36m<module>\u001b[0;34m\u001b[0m\n\u001b[1;32m     27\u001b[0m \u001b[0;34m\u001b[0m\u001b[0m\n\u001b[1;32m     28\u001b[0m \u001b[0;31m# Plot the figures.\u001b[0m\u001b[0;34m\u001b[0m\u001b[0;34m\u001b[0m\u001b[0;34m\u001b[0m\u001b[0m\n\u001b[0;32m---> 29\u001b[0;31m \u001b[0mfig1\u001b[0m \u001b[0;34m=\u001b[0m \u001b[0mplt\u001b[0m\u001b[0;34m.\u001b[0m\u001b[0mfigure\u001b[0m\u001b[0;34m(\u001b[0m\u001b[0mfigsize\u001b[0m\u001b[0;34m=\u001b[0m\u001b[0;34m(\u001b[0m\u001b[0;36m16\u001b[0m\u001b[0;34m,\u001b[0m\u001b[0;36m4\u001b[0m\u001b[0;34m)\u001b[0m\u001b[0;34m)\u001b[0m\u001b[0;34m\u001b[0m\u001b[0;34m\u001b[0m\u001b[0m\n\u001b[0m\u001b[1;32m     30\u001b[0m \u001b[0mfig1\u001b[0m\u001b[0;34m.\u001b[0m\u001b[0mtight_layout\u001b[0m\u001b[0;34m(\u001b[0m\u001b[0mrect\u001b[0m\u001b[0;34m=\u001b[0m\u001b[0;34m[\u001b[0m\u001b[0;36m0\u001b[0m\u001b[0;34m,\u001b[0m \u001b[0;36m0.03\u001b[0m\u001b[0;34m,\u001b[0m \u001b[0;36m1\u001b[0m\u001b[0;34m,\u001b[0m \u001b[0;36m0.95\u001b[0m\u001b[0;34m]\u001b[0m\u001b[0;34m)\u001b[0m\u001b[0;34m\u001b[0m\u001b[0;34m\u001b[0m\u001b[0m\n\u001b[1;32m     31\u001b[0m \u001b[0;34m\u001b[0m\u001b[0m\n",
      "\u001b[0;31mNameError\u001b[0m: name 'plt' is not defined"
     ]
    }
   ],
   "source": [
    "# The numbers should be symmetric around 10. Exercise 2.\n",
    "nucleiA = 9.0\n",
    "nucleiB = 11.0\n",
    "\n",
    "# Piecewise molecular wave function. \n",
    "def LCAO(n,r_values):\n",
    "    avg_plot = np.zeros(len(r_values))\n",
    "    \n",
    "    partial_integral = lambda r: dblquad(lambda theta, phi: \n",
    "                        stationary_state(n,0,0,r,phi,theta,0), \n",
    "                        0, 2*np.pi,\n",
    "                        lambda theta: 0, lambda theta: np.pi)\n",
    "    \n",
    "    for i in range(0,len(r_values)):\n",
    "    \n",
    "        # Change - to + for the different functions. Exercise 1.\n",
    "        if(r_values[i] < nucleiA): \n",
    "            avg_plot[i] = partial_integral(nucleiA-r_values[i])[0] - partial_integral(nucleiB-r_values[i])[0]\n",
    "    \n",
    "        if(r_values[i] > nucleiA and r_values[i] < nucleiB):\n",
    "            avg_plot[i] = partial_integral(r_values[i]-nucleiA)[0] - partial_integral(nucleiB-r_values[i])[0]\n",
    "    \n",
    "        if(r_values[i] > nucleiB):\n",
    "            avg_plot[i] = partial_integral(r_values[i]-nucleiA)[0] - partial_integral(r_values[i]-nucleiB)[0]\n",
    "    \n",
    "    return avg_plot\n",
    " \n",
    "# Plot the figures.\n",
    "fig1 = plt.figure(figsize=(16,4))\n",
    "fig1.tight_layout(rect=[0, 0.03, 1, 0.95])\n",
    "\n",
    "ax3 = fig1.add_subplot(1, 2, 1)\n",
    "ax3.set_xlabel(r'$R_{AB}$', fontsize=16, fontname=\"Arial\") \n",
    "ax3.set_ylabel(r'$\\psi_{g/u}$', fontsize=16, fontname=\"Arial\")\n",
    "ax3.set_title(r'Cross section of orbitals', fontsize=16) \n",
    "ax3.set_xlim(0, 20)  \n",
    "ax3.set_ylim(-15, 15) # Change scale here. \n",
    "\n",
    "r_values = np.linspace(0,40,500)\n",
    "avg_plot = LCAO(1,r_values)\n",
    "\n",
    "values = ax3.scatter(r_values,avg_plot,marker='o',s=5,linewidths=0.3,color='red')"
   ]
  },
  {
   "cell_type": "markdown",
   "metadata": {
    "id": "L4UwYHE2FQAT"
   },
   "source": [
    "**Exercise 1:** Discuss with your partner what the shape of the first two molecular orbitals tell you about the stability of the molecule by plotting them (see Exercise 1 in the code). How would you create the higher energy orbitals in the LCAO method?\n",
    "\n",
    "**Exercise 2:** What happens as the nuclei are moved away from each other? When will the linear combinations become  exact solutions?\n",
    "\n",
    "**Exercise 3:** *This is a pen and paper exercise*. Using the results of the above two exercises make a drawing (inserting a hand-drawn graph is fine) of the orbital energy $E$ as a function of nuclei distance $R_{AB}$. Think about the limiting values $R_{AB} \\to \\infty$ and $R_{AB} \\to 0$ (recall Problem 4.19). "
   ]
  },
  {
   "cell_type": "markdown",
   "metadata": {
    "id": "paXO-qIWFQAT"
   },
   "source": [
    "# 3. Module completed\n",
    "\n",
    "Congratulations! You will need to save the module and hand it in **next week**. Future suggestions for this module can also be written here."
   ]
  }
 ],
 "metadata": {
  "colab": {
   "collapsed_sections": [],
   "name": "hydrogen_atom_student.ipynb",
   "provenance": []
  },
  "kernelspec": {
   "display_name": "Python 3",
   "language": "python",
   "name": "python3"
  },
  "language_info": {
   "codemirror_mode": {
    "name": "ipython",
    "version": 3
   },
   "file_extension": ".py",
   "mimetype": "text/x-python",
   "name": "python",
   "nbconvert_exporter": "python",
   "pygments_lexer": "ipython3",
   "version": "3.8.5"
  }
 },
 "nbformat": 4,
 "nbformat_minor": 4
}
